{
  "nbformat": 4,
  "nbformat_minor": 0,
  "metadata": {
    "colab": {
      "provenance": [],
      "include_colab_link": true
    },
    "kernelspec": {
      "name": "python3",
      "display_name": "Python 3"
    }
  },
  "cells": [
    {
      "cell_type": "markdown",
      "metadata": {
        "id": "view-in-github",
        "colab_type": "text"
      },
      "source": [
        "<a href=\"https://colab.research.google.com/github/catuscio/Kaggle-Exercise/blob/main/kaggle_study_week2.ipynb\" target=\"_parent\"><img src=\"https://colab.research.google.com/assets/colab-badge.svg\" alt=\"Open In Colab\"/></a>"
      ]
    },
    {
      "cell_type": "markdown",
      "metadata": {
        "id": "0Nj76qUe2lnA"
      },
      "source": [
        "## 따릉이 데이터를 활용한 데이터 분석"
      ]
    },
    {
      "cell_type": "markdown",
      "metadata": {
        "id": "G40FawyyQl8c"
      },
      "source": [
        "- 각 날짜의 1시간 전의 기상상황을 가지고 1시간 후의 따릉이 대여수를 예측해보세요. "
      ]
    },
    {
      "cell_type": "markdown",
      "metadata": {
        "id": "JYHb_Mf-2lnG"
      },
      "source": [
        "---\n",
        "## 1. 라이브러리 및 데이터\n",
        "## Library & Data"
      ]
    },
    {
      "cell_type": "code",
      "metadata": {
        "id": "pb0OD3v82lnT"
      },
      "source": [
        "import pandas as pd #판다스 패키지 불러오기\n",
        "from sklearn.tree import DecisionTreeRegressor\n",
        "from sklearn.ensemble import RandomForestRegressor #랜덤 포레스트 불러오기"
      ],
      "execution_count": 1,
      "outputs": []
    },
    {
      "cell_type": "code",
      "metadata": {
        "id": "mW-9kTLjQl8k"
      },
      "source": [
        "# 데이터 불러오기\n",
        "train = pd.read_csv(\"/content/drive/MyDrive/smarcle kaggle study db/따릉이/train.csv\")\n",
        "test = pd.read_csv(\"/content/drive/MyDrive/smarcle kaggle study db/따릉이/test.csv\")\n",
        "submission = pd.read_csv(\"/content/drive/MyDrive/smarcle kaggle study db/따릉이/submission.csv\")"
      ],
      "execution_count": 5,
      "outputs": []
    },
    {
      "cell_type": "code",
      "source": [
        "from google.colab import drive\n",
        "drive.mount('/content/drive')"
      ],
      "metadata": {
        "colab": {
          "base_uri": "https://localhost:8080/"
        },
        "id": "XEq8nnKFNv31",
        "outputId": "0fcdca5c-82e0-4ff0-8f8e-c7ac068090ec"
      },
      "execution_count": 2,
      "outputs": [
        {
          "output_type": "stream",
          "name": "stdout",
          "text": [
            "Mounted at /content/drive\n"
          ]
        }
      ]
    },
    {
      "cell_type": "markdown",
      "metadata": {
        "id": "jwLtCHGC2lnb"
      },
      "source": [
        "---\n",
        "## 2. 탐색적 자료분석\n",
        "## Exploratory Data Analysis (EDA)\n"
      ]
    },
    {
      "cell_type": "markdown",
      "metadata": {
        "id": "9n-wG2ueQl8s"
      },
      "source": [
        "+ id : 날짜와 시간별 id\n",
        "+ hour_bef_temperature : 1시간 전 기온\n",
        "+ hour_bef_precipitation : 1시간 전 비 정보, 비가 오지 않았으면 0, 비가 오면 1\n",
        "+ hour_bef_windspeed : 1시간 전 풍속(평균)\n",
        "+ hour_bef_humidity : 1시간 전 습도\n",
        "+ hour_bef_visibility : 1시간 전 시정(視程), 시계(視界)(특정 기상 상태에 따른 가시성을 의미)\n",
        "+ hour_bef_ozone : 1시간 전 오존\n",
        "+ hour_bef_pm10 : 1시간 전 미세먼지(머리카락 굵기의 1/5에서 1/7 크기의 미세먼지)\n",
        "+ hour_bef_pm2.5 : 1시간 전 미세먼지(머리카락 굵기의 1/20에서 1/30 크기의 미세먼지)\n",
        "+ count : 시간에 따른 따릉이 대여 수 "
      ]
    },
    {
      "cell_type": "code",
      "source": [
        "#.head() : 맨 위 다섯개 행 확인\n",
        "#.tail() : 맨 아래 다섯개 행 확인\n",
        "#.shape() : 행/열의 개수 순써상으로 반환\n",
        "#.info() : column(열)별 정보를 알려줌\n",
        "#.describe() : 여러가지 통계값 표시"
      ],
      "metadata": {
        "id": "BQJEM8woOtoB"
      },
      "execution_count": 10,
      "outputs": []
    },
    {
      "cell_type": "markdown",
      "source": [
        "__.info() 함수를 통해 결측치를 확인한다.__"
      ],
      "metadata": {
        "id": "VhGVAbtMPRzl"
      }
    },
    {
      "cell_type": "code",
      "metadata": {
        "id": "ILuhT9hAOK48",
        "colab": {
          "base_uri": "https://localhost:8080/"
        },
        "outputId": "079a066e-6ba4-43aa-ba5e-c49f64a2ba64"
      },
      "source": [
        "train.info()"
      ],
      "execution_count": 9,
      "outputs": [
        {
          "output_type": "stream",
          "name": "stdout",
          "text": [
            "<class 'pandas.core.frame.DataFrame'>\n",
            "RangeIndex: 1459 entries, 0 to 1458\n",
            "Data columns (total 11 columns):\n",
            " #   Column                  Non-Null Count  Dtype  \n",
            "---  ------                  --------------  -----  \n",
            " 0   id                      1459 non-null   int64  \n",
            " 1   hour                    1459 non-null   int64  \n",
            " 2   hour_bef_temperature    1457 non-null   float64\n",
            " 3   hour_bef_precipitation  1457 non-null   float64\n",
            " 4   hour_bef_windspeed      1450 non-null   float64\n",
            " 5   hour_bef_humidity       1457 non-null   float64\n",
            " 6   hour_bef_visibility     1457 non-null   float64\n",
            " 7   hour_bef_ozone          1383 non-null   float64\n",
            " 8   hour_bef_pm10           1369 non-null   float64\n",
            " 9   hour_bef_pm2.5          1342 non-null   float64\n",
            " 10  count                   1459 non-null   float64\n",
            "dtypes: float64(9), int64(2)\n",
            "memory usage: 125.5 KB\n"
          ]
        }
      ]
    },
    {
      "cell_type": "markdown",
      "metadata": {
        "id": "4FBTcD_OQl9E"
      },
      "source": [
        "### pd.DataFrame.describe()\n",
        "- 숫자형 (int, float) column들의 기술 통계량을 보여주는 함수\n",
        "\n",
        "- 기술통계량이란?\n",
        " - 해당 column을 대표할 수 있는 통계값들을 의미\n",
        " \n",
        " \n",
        "- 기술통계량 종류\n",
        " - count: 해당 column에서 비어 있지 않은 값의 개수\n",
        " - mean: 평균\n",
        " - std: 표준편차\n",
        " - min: 최솟값 (이상치 포함)\n",
        " - 25% (Q1): 전체 데이터를 순서대로 정렬했을 때, 아래에서 부터 1/4번째 지점에 있는 값\n",
        " - 50% (Q2): 중앙값 (전체 데이터를 순서대로 정렬했을 때, 아래에서 부터 2/4번째 지점에 있는 값)\n",
        " - 75% (Q3): 전체 데이터를 순서대로 정렬했을 때, 아래에서 부터 3/4번째 지점에 있는 값\n",
        " - max: 최댓값 (이상치 포함) "
      ]
    },
    {
      "cell_type": "code",
      "metadata": {
        "id": "ANFhZz9lOOUq",
        "colab": {
          "base_uri": "https://localhost:8080/"
        },
        "outputId": "590f6679-94e0-4a4f-d1da-8bd868fe0884"
      },
      "source": [
        "train.info()"
      ],
      "execution_count": 11,
      "outputs": [
        {
          "output_type": "stream",
          "name": "stdout",
          "text": [
            "<class 'pandas.core.frame.DataFrame'>\n",
            "RangeIndex: 1459 entries, 0 to 1458\n",
            "Data columns (total 11 columns):\n",
            " #   Column                  Non-Null Count  Dtype  \n",
            "---  ------                  --------------  -----  \n",
            " 0   id                      1459 non-null   int64  \n",
            " 1   hour                    1459 non-null   int64  \n",
            " 2   hour_bef_temperature    1457 non-null   float64\n",
            " 3   hour_bef_precipitation  1457 non-null   float64\n",
            " 4   hour_bef_windspeed      1450 non-null   float64\n",
            " 5   hour_bef_humidity       1457 non-null   float64\n",
            " 6   hour_bef_visibility     1457 non-null   float64\n",
            " 7   hour_bef_ozone          1383 non-null   float64\n",
            " 8   hour_bef_pm10           1369 non-null   float64\n",
            " 9   hour_bef_pm2.5          1342 non-null   float64\n",
            " 10  count                   1459 non-null   float64\n",
            "dtypes: float64(9), int64(2)\n",
            "memory usage: 125.5 KB\n"
          ]
        }
      ]
    },
    {
      "cell_type": "code",
      "source": [
        "#groupby 함수에서 hour 기준을 sort 후 column(열) 별 평균(mean) 산출 후 count 값 표시 / plot함수로 시각화\n",
        "train.groupby('hour').mean()['count'].plot()"
      ],
      "metadata": {
        "colab": {
          "base_uri": "https://localhost:8080/",
          "height": 297
        },
        "id": "z-xXiGcSP-Fu",
        "outputId": "87a519ce-3830-4600-9fa0-265fd0c9d91b"
      },
      "execution_count": 17,
      "outputs": [
        {
          "output_type": "execute_result",
          "data": {
            "text/plain": [
              "<Axes: xlabel='hour'>"
            ]
          },
          "metadata": {},
          "execution_count": 17
        },
        {
          "output_type": "display_data",
          "data": {
            "text/plain": [
              "<Figure size 432x288 with 1 Axes>"
            ],
            "image/png": "[encoded data removed]"
          },
          "metadata": {
            "needs_background": "light"
          }
        }
      ]
    },
    {
      "cell_type": "markdown",
      "source": [
        "## matplotlib 라이브러리 임포트"
      ],
      "metadata": {
        "id": "hROB3N-DQ8H8"
      }
    },
    {
      "cell_type": "code",
      "metadata": {
        "id": "cx2HpmGtQl9O"
      },
      "source": [
        "import matplotlib.pyplot as plt"
      ],
      "execution_count": 18,
      "outputs": []
    },
    {
      "cell_type": "code",
      "metadata": {
        "id": "Z-YeCAewORkg",
        "colab": {
          "base_uri": "https://localhost:8080/",
          "height": 302
        },
        "outputId": "2b52b986-5ab8-454f-b7b7-8391ee8975d7"
      },
      "source": [
        "#.plot() 함수의 인자\n",
        "plt.plot(train.groupby('hour').mean()['count'], 'go-') #데이터 점으로 표시, -선으로 잇기\n",
        "plt.grid() #그리드 표시\n",
        "\n",
        "plt.title('count by hours', fontsize = 15)\n",
        "plt.xlabel('hour', fontsize = 15)\n",
        "plt.ylabel('count', fontsize = 15)\n",
        "\n",
        "plt.axvline(8, color = 'r') #x좌표 8에 대해 보조선\n",
        "plt.axvline(18, color = 'r')\n",
        "\n",
        "plt.text(8, 120, 'go work', fontsize = 10) #데이터 좌표값 근처에 정보 등록해줌\n",
        "plt.text(18, 120, 'leave work', fontsize = 10)\n",
        "\n",
        "plt.savefig('picture.png')    #그래프 사진 저장"
      ],
      "execution_count": 75,
      "outputs": [
        {
          "output_type": "display_data",
          "data": {
            "text/plain": [
              "<Figure size 432x288 with 1 Axes>"
            ],
            "image/png": "[encoded data removed]"
          },
          "metadata": {
            "needs_background": "light"
          }
        }
      ]
    },
    {
      "cell_type": "markdown",
      "metadata": {
        "id": "fEiyzXFCStH4"
      },
      "source": [
        "### 상관계수"
      ]
    },
    {
      "cell_type": "code",
      "metadata": {
        "id": "fxIxVwXpQl9l",
        "colab": {
          "base_uri": "https://localhost:8080/",
          "height": 394
        },
        "outputId": "2614780e-774e-4449-af18-c53e58b1b99f"
      },
      "source": [
        "#데이터셋의 상관관계 확인인\n",
        "train.corr()"
      ],
      "execution_count": 74,
      "outputs": [
        {
          "output_type": "execute_result",
          "data": {
            "text/plain": [
              "                              id      hour  hour_bef_temperature  \\\n",
              "id                      1.000000 -0.010901              0.000236   \n",
              "hour                   -0.010901  1.000000              0.407626   \n",
              "hour_bef_temperature    0.000236  0.407626              1.000000   \n",
              "hour_bef_precipitation -0.056267  0.021646             -0.097056   \n",
              "hour_bef_windspeed     -0.002910  0.463820              0.376661   \n",
              "hour_bef_humidity      -0.017948 -0.329612             -0.496088   \n",
              "hour_bef_visibility     0.008950  0.176491              0.197417   \n",
              "hour_bef_ozone          0.055234  0.390188              0.541228   \n",
              "hour_bef_pm10          -0.025510 -0.035907             -0.003830   \n",
              "hour_bef_pm2.5          0.003545 -0.061229             -0.078665   \n",
              "count                  -0.002131  0.626047              0.618222   \n",
              "\n",
              "                        hour_bef_precipitation  hour_bef_windspeed  \\\n",
              "id                                   -0.056267           -0.002910   \n",
              "hour                                  0.021646            0.463820   \n",
              "hour_bef_temperature                 -0.097056            0.376661   \n",
              "hour_bef_precipitation                1.000000            0.022817   \n",
              "hour_bef_windspeed                    0.022817            1.000000   \n",
              "hour_bef_humidity                     0.276481           -0.433144   \n",
              "hour_bef_visibility                  -0.217155            0.250098   \n",
              "hour_bef_ozone                       -0.062461            0.520095   \n",
              "hour_bef_pm10                        -0.051266            0.010811   \n",
              "hour_bef_pm2.5                        0.004742           -0.198042   \n",
              "count                                -0.163985            0.459692   \n",
              "\n",
              "                        hour_bef_humidity  hour_bef_visibility  \\\n",
              "id                              -0.017948             0.008950   \n",
              "hour                            -0.329612             0.176491   \n",
              "hour_bef_temperature            -0.496088             0.197417   \n",
              "hour_bef_precipitation           0.276481            -0.217155   \n",
              "hour_bef_windspeed              -0.433144             0.250098   \n",
              "hour_bef_humidity                1.000000            -0.592244   \n",
              "hour_bef_visibility             -0.592244             1.000000   \n",
              "hour_bef_ozone                  -0.421047             0.101899   \n",
              "hour_bef_pm10                   -0.108106            -0.403277   \n",
              "hour_bef_pm2.5                   0.167736            -0.644989   \n",
              "count                           -0.471142             0.299094   \n",
              "\n",
              "                        hour_bef_ozone  hour_bef_pm10  hour_bef_pm2.5  \\\n",
              "id                            0.055234      -0.025510        0.003545   \n",
              "hour                          0.390188      -0.035907       -0.061229   \n",
              "hour_bef_temperature          0.541228      -0.003830       -0.078665   \n",
              "hour_bef_precipitation       -0.062461      -0.051266        0.004742   \n",
              "hour_bef_windspeed            0.520095       0.010811       -0.198042   \n",
              "hour_bef_humidity            -0.421047      -0.108106        0.167736   \n",
              "hour_bef_visibility           0.101899      -0.403277       -0.644989   \n",
              "hour_bef_ozone                1.000000       0.113015        0.017313   \n",
              "hour_bef_pm10                 0.113015       1.000000        0.489558   \n",
              "hour_bef_pm2.5                0.017313       0.489558        1.000000   \n",
              "count                         0.477614      -0.114288       -0.134293   \n",
              "\n",
              "                           count  \n",
              "id                     -0.002131  \n",
              "hour                    0.626047  \n",
              "hour_bef_temperature    0.618222  \n",
              "hour_bef_precipitation -0.163985  \n",
              "hour_bef_windspeed      0.459692  \n",
              "hour_bef_humidity      -0.471142  \n",
              "hour_bef_visibility     0.299094  \n",
              "hour_bef_ozone          0.477614  \n",
              "hour_bef_pm10          -0.114288  \n",
              "hour_bef_pm2.5         -0.134293  \n",
              "count                   1.000000  "
            ],
            "text/html": [
              "\n",
              "  <div id=\"df-6c4b792c-e535-4202-a08a-5bbc5dcb94db\">\n",
              "    <div class=\"colab-df-container\">\n",
              "      <div>\n",
              "<style scoped>\n",
              "    .dataframe tbody tr th:only-of-type {\n",
              "        vertical-align: middle;\n",
              "    }\n",
              "\n",
              "    .dataframe tbody tr th {\n",
              "        vertical-align: top;\n",
              "    }\n",
              "\n",
              "    .dataframe thead th {\n",
              "        text-align: right;\n",
              "    }\n",
              "</style>\n",
              "<table border=\"1\" class=\"dataframe\">\n",
              "  <thead>\n",
              "    <tr style=\"text-align: right;\">\n",
              "      <th></th>\n",
              "      <th>id</th>\n",
              "      <th>hour</th>\n",
              "      <th>hour_bef_temperature</th>\n",
              "      <th>hour_bef_precipitation</th>\n",
              "      <th>hour_bef_windspeed</th>\n",
              "      <th>hour_bef_humidity</th>\n",
              "      <th>hour_bef_visibility</th>\n",
              "      <th>hour_bef_ozone</th>\n",
              "      <th>hour_bef_pm10</th>\n",
              "      <th>hour_bef_pm2.5</th>\n",
              "      <th>count</th>\n",
              "    </tr>\n",
              "  </thead>\n",
              "  <tbody>\n",
              "    <tr>\n",
              "      <th>id</th>\n",
              "      <td>1.000000</td>\n",
              "      <td>-0.010901</td>\n",
              "      <td>0.000236</td>\n",
              "      <td>-0.056267</td>\n",
              "      <td>-0.002910</td>\n",
              "      <td>-0.017948</td>\n",
              "      <td>0.008950</td>\n",
              "      <td>0.055234</td>\n",
              "      <td>-0.025510</td>\n",
              "      <td>0.003545</td>\n",
              "      <td>-0.002131</td>\n",
              "    </tr>\n",
              "    <tr>\n",
              "      <th>hour</th>\n",
              "      <td>-0.010901</td>\n",
              "      <td>1.000000</td>\n",
              "      <td>0.407626</td>\n",
              "      <td>0.021646</td>\n",
              "      <td>0.463820</td>\n",
              "      <td>-0.329612</td>\n",
              "      <td>0.176491</td>\n",
              "      <td>0.390188</td>\n",
              "      <td>-0.035907</td>\n",
              "      <td>-0.061229</td>\n",
              "      <td>0.626047</td>\n",
              "    </tr>\n",
              "    <tr>\n",
              "      <th>hour_bef_temperature</th>\n",
              "      <td>0.000236</td>\n",
              "      <td>0.407626</td>\n",
              "      <td>1.000000</td>\n",
              "      <td>-0.097056</td>\n",
              "      <td>0.376661</td>\n",
              "      <td>-0.496088</td>\n",
              "      <td>0.197417</td>\n",
              "      <td>0.541228</td>\n",
              "      <td>-0.003830</td>\n",
              "      <td>-0.078665</td>\n",
              "      <td>0.618222</td>\n",
              "    </tr>\n",
              "    <tr>\n",
              "      <th>hour_bef_precipitation</th>\n",
              "      <td>-0.056267</td>\n",
              "      <td>0.021646</td>\n",
              "      <td>-0.097056</td>\n",
              "      <td>1.000000</td>\n",
              "      <td>0.022817</td>\n",
              "      <td>0.276481</td>\n",
              "      <td>-0.217155</td>\n",
              "      <td>-0.062461</td>\n",
              "      <td>-0.051266</td>\n",
              "      <td>0.004742</td>\n",
              "      <td>-0.163985</td>\n",
              "    </tr>\n",
              "    <tr>\n",
              "      <th>hour_bef_windspeed</th>\n",
              "      <td>-0.002910</td>\n",
              "      <td>0.463820</td>\n",
              "      <td>0.376661</td>\n",
              "      <td>0.022817</td>\n",
              "      <td>1.000000</td>\n",
              "      <td>-0.433144</td>\n",
              "      <td>0.250098</td>\n",
              "      <td>0.520095</td>\n",
              "      <td>0.010811</td>\n",
              "      <td>-0.198042</td>\n",
              "      <td>0.459692</td>\n",
              "    </tr>\n",
              "    <tr>\n",
              "      <th>hour_bef_humidity</th>\n",
              "      <td>-0.017948</td>\n",
              "      <td>-0.329612</td>\n",
              "      <td>-0.496088</td>\n",
              "      <td>0.276481</td>\n",
              "      <td>-0.433144</td>\n",
              "      <td>1.000000</td>\n",
              "      <td>-0.592244</td>\n",
              "      <td>-0.421047</td>\n",
              "      <td>-0.108106</td>\n",
              "      <td>0.167736</td>\n",
              "      <td>-0.471142</td>\n",
              "    </tr>\n",
              "    <tr>\n",
              "      <th>hour_bef_visibility</th>\n",
              "      <td>0.008950</td>\n",
              "      <td>0.176491</td>\n",
              "      <td>0.197417</td>\n",
              "      <td>-0.217155</td>\n",
              "      <td>0.250098</td>\n",
              "      <td>-0.592244</td>\n",
              "      <td>1.000000</td>\n",
              "      <td>0.101899</td>\n",
              "      <td>-0.403277</td>\n",
              "      <td>-0.644989</td>\n",
              "      <td>0.299094</td>\n",
              "    </tr>\n",
              "    <tr>\n",
              "      <th>hour_bef_ozone</th>\n",
              "      <td>0.055234</td>\n",
              "      <td>0.390188</td>\n",
              "      <td>0.541228</td>\n",
              "      <td>-0.062461</td>\n",
              "      <td>0.520095</td>\n",
              "      <td>-0.421047</td>\n",
              "      <td>0.101899</td>\n",
              "      <td>1.000000</td>\n",
              "      <td>0.113015</td>\n",
              "      <td>0.017313</td>\n",
              "      <td>0.477614</td>\n",
              "    </tr>\n",
              "    <tr>\n",
              "      <th>hour_bef_pm10</th>\n",
              "      <td>-0.025510</td>\n",
              "      <td>-0.035907</td>\n",
              "      <td>-0.003830</td>\n",
              "      <td>-0.051266</td>\n",
              "      <td>0.010811</td>\n",
              "      <td>-0.108106</td>\n",
              "      <td>-0.403277</td>\n",
              "      <td>0.113015</td>\n",
              "      <td>1.000000</td>\n",
              "      <td>0.489558</td>\n",
              "      <td>-0.114288</td>\n",
              "    </tr>\n",
              "    <tr>\n",
              "      <th>hour_bef_pm2.5</th>\n",
              "      <td>0.003545</td>\n",
              "      <td>-0.061229</td>\n",
              "      <td>-0.078665</td>\n",
              "      <td>0.004742</td>\n",
              "      <td>-0.198042</td>\n",
              "      <td>0.167736</td>\n",
              "      <td>-0.644989</td>\n",
              "      <td>0.017313</td>\n",
              "      <td>0.489558</td>\n",
              "      <td>1.000000</td>\n",
              "      <td>-0.134293</td>\n",
              "    </tr>\n",
              "    <tr>\n",
              "      <th>count</th>\n",
              "      <td>-0.002131</td>\n",
              "      <td>0.626047</td>\n",
              "      <td>0.618222</td>\n",
              "      <td>-0.163985</td>\n",
              "      <td>0.459692</td>\n",
              "      <td>-0.471142</td>\n",
              "      <td>0.299094</td>\n",
              "      <td>0.477614</td>\n",
              "      <td>-0.114288</td>\n",
              "      <td>-0.134293</td>\n",
              "      <td>1.000000</td>\n",
              "    </tr>\n",
              "  </tbody>\n",
              "</table>\n",
              "</div>\n",
              "      <button class=\"colab-df-convert\" onclick=\"convertToInteractive('df-6c4b792c-e535-4202-a08a-5bbc5dcb94db')\"\n",
              "              title=\"Convert this dataframe to an interactive table.\"\n",
              "              style=\"display:none;\">\n",
              "        \n",
              "  <svg xmlns=\"http://www.w3.org/2000/svg\" height=\"24px\"viewBox=\"0 0 24 24\"\n",
              "       width=\"24px\">\n",
              "    <path d=\"M0 0h24v24H0V0z\" fill=\"none\"/>\n",
              "    <path d=\"M18.56 5.44l.94 2.06.94-2.06 2.06-.94-2.06-.94-.94-2.06-.94 2.06-2.06.94zm-11 1L8.5 8.5l.94-2.06 2.06-.94-2.06-.94L8.5 2.5l-.94 2.06-2.06.94zm10 10l.94 2.06.94-2.06 2.06-.94-2.06-.94-.94-2.06-.94 2.06-2.06.94z\"/><path d=\"M17.41 7.96l-1.37-1.37c-.4-.4-.92-.59-1.43-.59-.52 0-1.04.2-1.43.59L10.3 9.45l-7.72 7.72c-.78.78-.78 2.05 0 2.83L4 21.41c.39.39.9.59 1.41.59.51 0 1.02-.2 1.41-.59l7.78-7.78 2.81-2.81c.8-.78.8-2.07 0-2.86zM5.41 20L4 18.59l7.72-7.72 1.47 1.35L5.41 20z\"/>\n",
              "  </svg>\n",
              "      </button>\n",
              "      \n",
              "  <style>\n",
              "    .colab-df-container {\n",
              "      display:flex;\n",
              "      flex-wrap:wrap;\n",
              "      gap: 12px;\n",
              "    }\n",
              "\n",
              "    .colab-df-convert {\n",
              "      background-color: #E8F0FE;\n",
              "      border: none;\n",
              "      border-radius: 50%;\n",
              "      cursor: pointer;\n",
              "      display: none;\n",
              "      fill: #1967D2;\n",
              "      height: 32px;\n",
              "      padding: 0 0 0 0;\n",
              "      width: 32px;\n",
              "    }\n",
              "\n",
              "    .colab-df-convert:hover {\n",
              "      background-color: #E2EBFA;\n",
              "      box-shadow: 0px 1px 2px rgba(60, 64, 67, 0.3), 0px 1px 3px 1px rgba(60, 64, 67, 0.15);\n",
              "      fill: #174EA6;\n",
              "    }\n",
              "\n",
              "    [theme=dark] .colab-df-convert {\n",
              "      background-color: #3B4455;\n",
              "      fill: #D2E3FC;\n",
              "    }\n",
              "\n",
              "    [theme=dark] .colab-df-convert:hover {\n",
              "      background-color: #434B5C;\n",
              "      box-shadow: 0px 1px 3px 1px rgba(0, 0, 0, 0.15);\n",
              "      filter: drop-shadow(0px 1px 2px rgba(0, 0, 0, 0.3));\n",
              "      fill: #FFFFFF;\n",
              "    }\n",
              "  </style>\n",
              "\n",
              "      <script>\n",
              "        const buttonEl =\n",
              "          document.querySelector('#df-6c4b792c-e535-4202-a08a-5bbc5dcb94db button.colab-df-convert');\n",
              "        buttonEl.style.display =\n",
              "          google.colab.kernel.accessAllowed ? 'block' : 'none';\n",
              "\n",
              "        async function convertToInteractive(key) {\n",
              "          const element = document.querySelector('#df-6c4b792c-e535-4202-a08a-5bbc5dcb94db');\n",
              "          const dataTable =\n",
              "            await google.colab.kernel.invokeFunction('convertToInteractive',\n",
              "                                                     [key], {});\n",
              "          if (!dataTable) return;\n",
              "\n",
              "          const docLinkHtml = 'Like what you see? Visit the ' +\n",
              "            '<a target=\"_blank\" href=https://colab.research.google.com/notebooks/data_table.ipynb>data table notebook</a>'\n",
              "            + ' to learn more about interactive tables.';\n",
              "          element.innerHTML = '';\n",
              "          dataTable['output_type'] = 'display_data';\n",
              "          await google.colab.output.renderOutput(dataTable, element);\n",
              "          const docLink = document.createElement('div');\n",
              "          docLink.innerHTML = docLinkHtml;\n",
              "          element.appendChild(docLink);\n",
              "        }\n",
              "      </script>\n",
              "    </div>\n",
              "  </div>\n",
              "  "
            ]
          },
          "metadata": {},
          "execution_count": 74
        }
      ]
    },
    {
      "cell_type": "code",
      "metadata": {
        "id": "IC1gZrgbOW5y",
        "colab": {
          "base_uri": "https://localhost:8080/",
          "height": 715
        },
        "outputId": "07007e32-efce-498b-830d-86d207ae661f"
      },
      "source": [
        "import seaborn as sns\n",
        "\n",
        "plt.figure(figsize=(10,10)) #히트맵 크기 재설정(plt 라이브러리)\n",
        "sns.heatmap(train.corr(), annot=True) #seaborn 히트맵으로 가시화"
      ],
      "execution_count": 36,
      "outputs": [
        {
          "output_type": "execute_result",
          "data": {
            "text/plain": [
              "<Axes: >"
            ]
          },
          "metadata": {},
          "execution_count": 36
        },
        {
          "output_type": "display_data",
          "data": {
            "text/plain": [
              "<Figure size 720x720 with 2 Axes>"
            ],
            "image/png": "[encoded data removed]"
          },
          "metadata": {
            "needs_background": "light"
          }
        }
      ]
    },
    {
      "cell_type": "markdown",
      "source": [
        "submission에 제출해야 하는 count 항목에 대하여,\\\n",
        "hour, hour_bef_temperature, hour_bef_windspeed 세 개의 항목이 상관도가 높음을 알 수 있다."
      ],
      "metadata": {
        "id": "e7rFSgp1VL5M"
      }
    },
    {
      "cell_type": "markdown",
      "metadata": {
        "id": "3zjQY_KY2lnR"
      },
      "source": [
        "---\n",
        "## 3. 데이터 전처리\n",
        "## Data Cleansing & Pre-Processing  "
      ]
    },
    {
      "cell_type": "markdown",
      "metadata": {
        "id": "0y4EQIRwQl-C"
      },
      "source": [
        "### pd.Series.isna()\n",
        "- 결측치 여부를 확인해줍니다.\n",
        "- 결측치면 True, 아니면 False"
      ]
    },
    {
      "cell_type": "code",
      "metadata": {
        "id": "NIMoxBkbOco9",
        "colab": {
          "base_uri": "https://localhost:8080/"
        },
        "outputId": "037c1ad7-0e61-4f1b-8eea-48bb7d0be654"
      },
      "source": [
        "train.isna().sum()  #T/F이므로 sum을 구해 결측치를 살핀다."
      ],
      "execution_count": 38,
      "outputs": [
        {
          "output_type": "execute_result",
          "data": {
            "text/plain": [
              "id                          0\n",
              "hour                        0\n",
              "hour_bef_temperature        2\n",
              "hour_bef_precipitation      2\n",
              "hour_bef_windspeed          9\n",
              "hour_bef_humidity           2\n",
              "hour_bef_visibility         2\n",
              "hour_bef_ozone             76\n",
              "hour_bef_pm10              90\n",
              "hour_bef_pm2.5            117\n",
              "count                       0\n",
              "dtype: int64"
            ]
          },
          "metadata": {},
          "execution_count": 38
        }
      ]
    },
    {
      "cell_type": "code",
      "source": [
        "train[train['hour_bef_temperature'].isna()] #주요 상관계수의 결측치를 살핀다."
      ],
      "metadata": {
        "colab": {
          "base_uri": "https://localhost:8080/",
          "height": 112
        },
        "id": "PX0CWycRZEcr",
        "outputId": "d7712a56-1a0a-41c6-e97e-4ea2a6d8de0c"
      },
      "execution_count": 39,
      "outputs": [
        {
          "output_type": "execute_result",
          "data": {
            "text/plain": [
              "        id  hour  hour_bef_temperature  hour_bef_precipitation  \\\n",
              "934   1420     0                   NaN                     NaN   \n",
              "1035  1553    18                   NaN                     NaN   \n",
              "\n",
              "      hour_bef_windspeed  hour_bef_humidity  hour_bef_visibility  \\\n",
              "934                  NaN                NaN                  NaN   \n",
              "1035                 NaN                NaN                  NaN   \n",
              "\n",
              "      hour_bef_ozone  hour_bef_pm10  hour_bef_pm2.5  count  \n",
              "934              NaN            NaN             NaN   39.0  \n",
              "1035             NaN            NaN             NaN    1.0  "
            ],
            "text/html": [
              "\n",
              "  <div id=\"df-3412a7c3-18b2-4190-ad31-42dda180d611\">\n",
              "    <div class=\"colab-df-container\">\n",
              "      <div>\n",
              "<style scoped>\n",
              "    .dataframe tbody tr th:only-of-type {\n",
              "        vertical-align: middle;\n",
              "    }\n",
              "\n",
              "    .dataframe tbody tr th {\n",
              "        vertical-align: top;\n",
              "    }\n",
              "\n",
              "    .dataframe thead th {\n",
              "        text-align: right;\n",
              "    }\n",
              "</style>\n",
              "<table border=\"1\" class=\"dataframe\">\n",
              "  <thead>\n",
              "    <tr style=\"text-align: right;\">\n",
              "      <th></th>\n",
              "      <th>id</th>\n",
              "      <th>hour</th>\n",
              "      <th>hour_bef_temperature</th>\n",
              "      <th>hour_bef_precipitation</th>\n",
              "      <th>hour_bef_windspeed</th>\n",
              "      <th>hour_bef_humidity</th>\n",
              "      <th>hour_bef_visibility</th>\n",
              "      <th>hour_bef_ozone</th>\n",
              "      <th>hour_bef_pm10</th>\n",
              "      <th>hour_bef_pm2.5</th>\n",
              "      <th>count</th>\n",
              "    </tr>\n",
              "  </thead>\n",
              "  <tbody>\n",
              "    <tr>\n",
              "      <th>934</th>\n",
              "      <td>1420</td>\n",
              "      <td>0</td>\n",
              "      <td>NaN</td>\n",
              "      <td>NaN</td>\n",
              "      <td>NaN</td>\n",
              "      <td>NaN</td>\n",
              "      <td>NaN</td>\n",
              "      <td>NaN</td>\n",
              "      <td>NaN</td>\n",
              "      <td>NaN</td>\n",
              "      <td>39.0</td>\n",
              "    </tr>\n",
              "    <tr>\n",
              "      <th>1035</th>\n",
              "      <td>1553</td>\n",
              "      <td>18</td>\n",
              "      <td>NaN</td>\n",
              "      <td>NaN</td>\n",
              "      <td>NaN</td>\n",
              "      <td>NaN</td>\n",
              "      <td>NaN</td>\n",
              "      <td>NaN</td>\n",
              "      <td>NaN</td>\n",
              "      <td>NaN</td>\n",
              "      <td>1.0</td>\n",
              "    </tr>\n",
              "  </tbody>\n",
              "</table>\n",
              "</div>\n",
              "      <button class=\"colab-df-convert\" onclick=\"convertToInteractive('df-3412a7c3-18b2-4190-ad31-42dda180d611')\"\n",
              "              title=\"Convert this dataframe to an interactive table.\"\n",
              "              style=\"display:none;\">\n",
              "        \n",
              "  <svg xmlns=\"http://www.w3.org/2000/svg\" height=\"24px\"viewBox=\"0 0 24 24\"\n",
              "       width=\"24px\">\n",
              "    <path d=\"M0 0h24v24H0V0z\" fill=\"none\"/>\n",
              "    <path d=\"M18.56 5.44l.94 2.06.94-2.06 2.06-.94-2.06-.94-.94-2.06-.94 2.06-2.06.94zm-11 1L8.5 8.5l.94-2.06 2.06-.94-2.06-.94L8.5 2.5l-.94 2.06-2.06.94zm10 10l.94 2.06.94-2.06 2.06-.94-2.06-.94-.94-2.06-.94 2.06-2.06.94z\"/><path d=\"M17.41 7.96l-1.37-1.37c-.4-.4-.92-.59-1.43-.59-.52 0-1.04.2-1.43.59L10.3 9.45l-7.72 7.72c-.78.78-.78 2.05 0 2.83L4 21.41c.39.39.9.59 1.41.59.51 0 1.02-.2 1.41-.59l7.78-7.78 2.81-2.81c.8-.78.8-2.07 0-2.86zM5.41 20L4 18.59l7.72-7.72 1.47 1.35L5.41 20z\"/>\n",
              "  </svg>\n",
              "      </button>\n",
              "      \n",
              "  <style>\n",
              "    .colab-df-container {\n",
              "      display:flex;\n",
              "      flex-wrap:wrap;\n",
              "      gap: 12px;\n",
              "    }\n",
              "\n",
              "    .colab-df-convert {\n",
              "      background-color: #E8F0FE;\n",
              "      border: none;\n",
              "      border-radius: 50%;\n",
              "      cursor: pointer;\n",
              "      display: none;\n",
              "      fill: #1967D2;\n",
              "      height: 32px;\n",
              "      padding: 0 0 0 0;\n",
              "      width: 32px;\n",
              "    }\n",
              "\n",
              "    .colab-df-convert:hover {\n",
              "      background-color: #E2EBFA;\n",
              "      box-shadow: 0px 1px 2px rgba(60, 64, 67, 0.3), 0px 1px 3px 1px rgba(60, 64, 67, 0.15);\n",
              "      fill: #174EA6;\n",
              "    }\n",
              "\n",
              "    [theme=dark] .colab-df-convert {\n",
              "      background-color: #3B4455;\n",
              "      fill: #D2E3FC;\n",
              "    }\n",
              "\n",
              "    [theme=dark] .colab-df-convert:hover {\n",
              "      background-color: #434B5C;\n",
              "      box-shadow: 0px 1px 3px 1px rgba(0, 0, 0, 0.15);\n",
              "      filter: drop-shadow(0px 1px 2px rgba(0, 0, 0, 0.3));\n",
              "      fill: #FFFFFF;\n",
              "    }\n",
              "  </style>\n",
              "\n",
              "      <script>\n",
              "        const buttonEl =\n",
              "          document.querySelector('#df-3412a7c3-18b2-4190-ad31-42dda180d611 button.colab-df-convert');\n",
              "        buttonEl.style.display =\n",
              "          google.colab.kernel.accessAllowed ? 'block' : 'none';\n",
              "\n",
              "        async function convertToInteractive(key) {\n",
              "          const element = document.querySelector('#df-3412a7c3-18b2-4190-ad31-42dda180d611');\n",
              "          const dataTable =\n",
              "            await google.colab.kernel.invokeFunction('convertToInteractive',\n",
              "                                                     [key], {});\n",
              "          if (!dataTable) return;\n",
              "\n",
              "          const docLinkHtml = 'Like what you see? Visit the ' +\n",
              "            '<a target=\"_blank\" href=https://colab.research.google.com/notebooks/data_table.ipynb>data table notebook</a>'\n",
              "            + ' to learn more about interactive tables.';\n",
              "          element.innerHTML = '';\n",
              "          dataTable['output_type'] = 'display_data';\n",
              "          await google.colab.output.renderOutput(dataTable, element);\n",
              "          const docLink = document.createElement('div');\n",
              "          docLink.innerHTML = docLinkHtml;\n",
              "          element.appendChild(docLink);\n",
              "        }\n",
              "      </script>\n",
              "    </div>\n",
              "  </div>\n",
              "  "
            ]
          },
          "metadata": {},
          "execution_count": 39
        }
      ]
    },
    {
      "cell_type": "markdown",
      "source": [
        "결측치를 해결하는 데에는 여러가지 값이 있으나, 이번에는 중간값으로 메꾸지 않는다.\\\n",
        "현재 중요 상관계수인 hour_bef_temperature의 경우, 기온은 일중 시간에 따라 고저를 반복하는 __경향성__이 있어 중간값으로 메꿀 경우 오차가 발생하게 된다.\\\n",
        "따라서 보다 세밀한 전처리가 필요하다."
      ],
      "metadata": {
        "id": "OXTOMUGtY-_i"
      }
    },
    {
      "cell_type": "code",
      "source": [
        "#hour별로 sort해서 메꿀 값의 평균 살펴보기\n",
        "train.groupby('hour').mean()['hour_bef_temperature']"
      ],
      "metadata": {
        "colab": {
          "base_uri": "https://localhost:8080/"
        },
        "id": "7wQsaOJrcL5_",
        "outputId": "a48f9f03-18de-46e3-90e6-66fc9779a045"
      },
      "execution_count": 40,
      "outputs": [
        {
          "output_type": "execute_result",
          "data": {
            "text/plain": [
              "hour\n",
              "0     14.788136\n",
              "1     14.155738\n",
              "2     13.747541\n",
              "3     13.357377\n",
              "4     13.001639\n",
              "5     12.673770\n",
              "6     12.377049\n",
              "7     12.191803\n",
              "8     12.600000\n",
              "9     14.318033\n",
              "10    16.242623\n",
              "11    18.019672\n",
              "12    19.457377\n",
              "13    20.648333\n",
              "14    21.234426\n",
              "15    21.744262\n",
              "16    22.015000\n",
              "17    21.603333\n",
              "18    20.926667\n",
              "19    19.704918\n",
              "20    18.191803\n",
              "21    16.978333\n",
              "22    16.063934\n",
              "23    15.418033\n",
              "Name: hour_bef_temperature, dtype: float64"
            ]
          },
          "metadata": {},
          "execution_count": 40
        }
      ]
    },
    {
      "cell_type": "markdown",
      "source": [
        "hour별로 sort해본다"
      ],
      "metadata": {
        "id": "hy9_XBGMcvpA"
      }
    },
    {
      "cell_type": "markdown",
      "metadata": {
        "id": "KuO6WyDUQl-R"
      },
      "source": [
        "### pd.DataFrame.fillna()\n",
        "- 결측치를 채우고자 하는 column과 결측치를 대신하여 넣고자 하는 값을 명시해주어야 합니다."
      ]
    },
    {
      "cell_type": "code",
      "metadata": {
        "id": "eQPQj9oOOfoy"
      },
      "source": [
        "train['hour_bef_temperature'].fillna({934:14.788136, 1035:20.926667}, inplace=True)   #결측값이 존재하는 934행에 hour별로 sort하여 평균낸 값 중 0시에 해당하는 값 삽입\n",
        "#저장을 위해 inplace인자 True로 조정"
      ],
      "execution_count": 41,
      "outputs": []
    },
    {
      "cell_type": "code",
      "source": [
        "train.loc[[934, 1035], :]"
      ],
      "metadata": {
        "colab": {
          "base_uri": "https://localhost:8080/",
          "height": 112
        },
        "id": "cjf-twYndnHU",
        "outputId": "8031aac6-abdf-4f0c-b023-cd2e04de5994"
      },
      "execution_count": 46,
      "outputs": [
        {
          "output_type": "execute_result",
          "data": {
            "text/plain": [
              "        id  hour  hour_bef_temperature  hour_bef_precipitation  \\\n",
              "934   1420     0             14.788136                     NaN   \n",
              "1035  1553    18             20.926667                     NaN   \n",
              "\n",
              "      hour_bef_windspeed  hour_bef_humidity  hour_bef_visibility  \\\n",
              "934                  NaN                NaN                  NaN   \n",
              "1035                 NaN                NaN                  NaN   \n",
              "\n",
              "      hour_bef_ozone  hour_bef_pm10  hour_bef_pm2.5  count  \n",
              "934              NaN            NaN             NaN   39.0  \n",
              "1035             NaN            NaN             NaN    1.0  "
            ],
            "text/html": [
              "\n",
              "  <div id=\"df-f5acf08e-57c8-43f9-94de-fe2b21b8d67b\">\n",
              "    <div class=\"colab-df-container\">\n",
              "      <div>\n",
              "<style scoped>\n",
              "    .dataframe tbody tr th:only-of-type {\n",
              "        vertical-align: middle;\n",
              "    }\n",
              "\n",
              "    .dataframe tbody tr th {\n",
              "        vertical-align: top;\n",
              "    }\n",
              "\n",
              "    .dataframe thead th {\n",
              "        text-align: right;\n",
              "    }\n",
              "</style>\n",
              "<table border=\"1\" class=\"dataframe\">\n",
              "  <thead>\n",
              "    <tr style=\"text-align: right;\">\n",
              "      <th></th>\n",
              "      <th>id</th>\n",
              "      <th>hour</th>\n",
              "      <th>hour_bef_temperature</th>\n",
              "      <th>hour_bef_precipitation</th>\n",
              "      <th>hour_bef_windspeed</th>\n",
              "      <th>hour_bef_humidity</th>\n",
              "      <th>hour_bef_visibility</th>\n",
              "      <th>hour_bef_ozone</th>\n",
              "      <th>hour_bef_pm10</th>\n",
              "      <th>hour_bef_pm2.5</th>\n",
              "      <th>count</th>\n",
              "    </tr>\n",
              "  </thead>\n",
              "  <tbody>\n",
              "    <tr>\n",
              "      <th>934</th>\n",
              "      <td>1420</td>\n",
              "      <td>0</td>\n",
              "      <td>14.788136</td>\n",
              "      <td>NaN</td>\n",
              "      <td>NaN</td>\n",
              "      <td>NaN</td>\n",
              "      <td>NaN</td>\n",
              "      <td>NaN</td>\n",
              "      <td>NaN</td>\n",
              "      <td>NaN</td>\n",
              "      <td>39.0</td>\n",
              "    </tr>\n",
              "    <tr>\n",
              "      <th>1035</th>\n",
              "      <td>1553</td>\n",
              "      <td>18</td>\n",
              "      <td>20.926667</td>\n",
              "      <td>NaN</td>\n",
              "      <td>NaN</td>\n",
              "      <td>NaN</td>\n",
              "      <td>NaN</td>\n",
              "      <td>NaN</td>\n",
              "      <td>NaN</td>\n",
              "      <td>NaN</td>\n",
              "      <td>1.0</td>\n",
              "    </tr>\n",
              "  </tbody>\n",
              "</table>\n",
              "</div>\n",
              "      <button class=\"colab-df-convert\" onclick=\"convertToInteractive('df-f5acf08e-57c8-43f9-94de-fe2b21b8d67b')\"\n",
              "              title=\"Convert this dataframe to an interactive table.\"\n",
              "              style=\"display:none;\">\n",
              "        \n",
              "  <svg xmlns=\"http://www.w3.org/2000/svg\" height=\"24px\"viewBox=\"0 0 24 24\"\n",
              "       width=\"24px\">\n",
              "    <path d=\"M0 0h24v24H0V0z\" fill=\"none\"/>\n",
              "    <path d=\"M18.56 5.44l.94 2.06.94-2.06 2.06-.94-2.06-.94-.94-2.06-.94 2.06-2.06.94zm-11 1L8.5 8.5l.94-2.06 2.06-.94-2.06-.94L8.5 2.5l-.94 2.06-2.06.94zm10 10l.94 2.06.94-2.06 2.06-.94-2.06-.94-.94-2.06-.94 2.06-2.06.94z\"/><path d=\"M17.41 7.96l-1.37-1.37c-.4-.4-.92-.59-1.43-.59-.52 0-1.04.2-1.43.59L10.3 9.45l-7.72 7.72c-.78.78-.78 2.05 0 2.83L4 21.41c.39.39.9.59 1.41.59.51 0 1.02-.2 1.41-.59l7.78-7.78 2.81-2.81c.8-.78.8-2.07 0-2.86zM5.41 20L4 18.59l7.72-7.72 1.47 1.35L5.41 20z\"/>\n",
              "  </svg>\n",
              "      </button>\n",
              "      \n",
              "  <style>\n",
              "    .colab-df-container {\n",
              "      display:flex;\n",
              "      flex-wrap:wrap;\n",
              "      gap: 12px;\n",
              "    }\n",
              "\n",
              "    .colab-df-convert {\n",
              "      background-color: #E8F0FE;\n",
              "      border: none;\n",
              "      border-radius: 50%;\n",
              "      cursor: pointer;\n",
              "      display: none;\n",
              "      fill: #1967D2;\n",
              "      height: 32px;\n",
              "      padding: 0 0 0 0;\n",
              "      width: 32px;\n",
              "    }\n",
              "\n",
              "    .colab-df-convert:hover {\n",
              "      background-color: #E2EBFA;\n",
              "      box-shadow: 0px 1px 2px rgba(60, 64, 67, 0.3), 0px 1px 3px 1px rgba(60, 64, 67, 0.15);\n",
              "      fill: #174EA6;\n",
              "    }\n",
              "\n",
              "    [theme=dark] .colab-df-convert {\n",
              "      background-color: #3B4455;\n",
              "      fill: #D2E3FC;\n",
              "    }\n",
              "\n",
              "    [theme=dark] .colab-df-convert:hover {\n",
              "      background-color: #434B5C;\n",
              "      box-shadow: 0px 1px 3px 1px rgba(0, 0, 0, 0.15);\n",
              "      filter: drop-shadow(0px 1px 2px rgba(0, 0, 0, 0.3));\n",
              "      fill: #FFFFFF;\n",
              "    }\n",
              "  </style>\n",
              "\n",
              "      <script>\n",
              "        const buttonEl =\n",
              "          document.querySelector('#df-f5acf08e-57c8-43f9-94de-fe2b21b8d67b button.colab-df-convert');\n",
              "        buttonEl.style.display =\n",
              "          google.colab.kernel.accessAllowed ? 'block' : 'none';\n",
              "\n",
              "        async function convertToInteractive(key) {\n",
              "          const element = document.querySelector('#df-f5acf08e-57c8-43f9-94de-fe2b21b8d67b');\n",
              "          const dataTable =\n",
              "            await google.colab.kernel.invokeFunction('convertToInteractive',\n",
              "                                                     [key], {});\n",
              "          if (!dataTable) return;\n",
              "\n",
              "          const docLinkHtml = 'Like what you see? Visit the ' +\n",
              "            '<a target=\"_blank\" href=https://colab.research.google.com/notebooks/data_table.ipynb>data table notebook</a>'\n",
              "            + ' to learn more about interactive tables.';\n",
              "          element.innerHTML = '';\n",
              "          dataTable['output_type'] = 'display_data';\n",
              "          await google.colab.output.renderOutput(dataTable, element);\n",
              "          const docLink = document.createElement('div');\n",
              "          docLink.innerHTML = docLinkHtml;\n",
              "          element.appendChild(docLink);\n",
              "        }\n",
              "      </script>\n",
              "    </div>\n",
              "  </div>\n",
              "  "
            ]
          },
          "metadata": {},
          "execution_count": 46
        }
      ]
    },
    {
      "cell_type": "code",
      "source": [
        "#같은 방식으로 다른 결측치도 메꾼다\n",
        "train.groupby('hour').mean()['hour_bef_windspeed']"
      ],
      "metadata": {
        "colab": {
          "base_uri": "https://localhost:8080/"
        },
        "id": "_Pai9QrJe0qk",
        "outputId": "595042f0-1946-43eb-b230-751209c2f698"
      },
      "execution_count": 47,
      "outputs": [
        {
          "output_type": "execute_result",
          "data": {
            "text/plain": [
              "hour\n",
              "0     1.965517\n",
              "1     1.836667\n",
              "2     1.633333\n",
              "3     1.620000\n",
              "4     1.409836\n",
              "5     1.296721\n",
              "6     1.331148\n",
              "7     1.262295\n",
              "8     1.632787\n",
              "9     1.829508\n",
              "10    2.122951\n",
              "11    2.485246\n",
              "12    2.766667\n",
              "13    3.281356\n",
              "14    3.522951\n",
              "15    3.768852\n",
              "16    3.820000\n",
              "17    3.801667\n",
              "18    3.838333\n",
              "19    3.595082\n",
              "20    3.278333\n",
              "21    2.755000\n",
              "22    2.498361\n",
              "23    2.195082\n",
              "Name: hour_bef_windspeed, dtype: float64"
            ]
          },
          "metadata": {},
          "execution_count": 47
        }
      ]
    },
    {
      "cell_type": "code",
      "source": [
        "train[train['hour_bef_windspeed'].isna()]"
      ],
      "metadata": {
        "colab": {
          "base_uri": "https://localhost:8080/",
          "height": 49
        },
        "id": "gkLXBY9IfKEt",
        "outputId": "84aed5d3-7e41-4e28-fbfa-27823574b2cd"
      },
      "execution_count": 50,
      "outputs": [
        {
          "output_type": "execute_result",
          "data": {
            "text/plain": [
              "Empty DataFrame\n",
              "Columns: [id, hour, hour_bef_temperature, hour_bef_precipitation, hour_bef_windspeed, hour_bef_humidity, hour_bef_visibility, hour_bef_ozone, hour_bef_pm10, hour_bef_pm2.5, count]\n",
              "Index: []"
            ],
            "text/html": [
              "\n",
              "  <div id=\"df-8c6ff102-e998-4499-bebd-e22f7210e1ef\">\n",
              "    <div class=\"colab-df-container\">\n",
              "      <div>\n",
              "<style scoped>\n",
              "    .dataframe tbody tr th:only-of-type {\n",
              "        vertical-align: middle;\n",
              "    }\n",
              "\n",
              "    .dataframe tbody tr th {\n",
              "        vertical-align: top;\n",
              "    }\n",
              "\n",
              "    .dataframe thead th {\n",
              "        text-align: right;\n",
              "    }\n",
              "</style>\n",
              "<table border=\"1\" class=\"dataframe\">\n",
              "  <thead>\n",
              "    <tr style=\"text-align: right;\">\n",
              "      <th></th>\n",
              "      <th>id</th>\n",
              "      <th>hour</th>\n",
              "      <th>hour_bef_temperature</th>\n",
              "      <th>hour_bef_precipitation</th>\n",
              "      <th>hour_bef_windspeed</th>\n",
              "      <th>hour_bef_humidity</th>\n",
              "      <th>hour_bef_visibility</th>\n",
              "      <th>hour_bef_ozone</th>\n",
              "      <th>hour_bef_pm10</th>\n",
              "      <th>hour_bef_pm2.5</th>\n",
              "      <th>count</th>\n",
              "    </tr>\n",
              "  </thead>\n",
              "  <tbody>\n",
              "  </tbody>\n",
              "</table>\n",
              "</div>\n",
              "      <button class=\"colab-df-convert\" onclick=\"convertToInteractive('df-8c6ff102-e998-4499-bebd-e22f7210e1ef')\"\n",
              "              title=\"Convert this dataframe to an interactive table.\"\n",
              "              style=\"display:none;\">\n",
              "        \n",
              "  <svg xmlns=\"http://www.w3.org/2000/svg\" height=\"24px\"viewBox=\"0 0 24 24\"\n",
              "       width=\"24px\">\n",
              "    <path d=\"M0 0h24v24H0V0z\" fill=\"none\"/>\n",
              "    <path d=\"M18.56 5.44l.94 2.06.94-2.06 2.06-.94-2.06-.94-.94-2.06-.94 2.06-2.06.94zm-11 1L8.5 8.5l.94-2.06 2.06-.94-2.06-.94L8.5 2.5l-.94 2.06-2.06.94zm10 10l.94 2.06.94-2.06 2.06-.94-2.06-.94-.94-2.06-.94 2.06-2.06.94z\"/><path d=\"M17.41 7.96l-1.37-1.37c-.4-.4-.92-.59-1.43-.59-.52 0-1.04.2-1.43.59L10.3 9.45l-7.72 7.72c-.78.78-.78 2.05 0 2.83L4 21.41c.39.39.9.59 1.41.59.51 0 1.02-.2 1.41-.59l7.78-7.78 2.81-2.81c.8-.78.8-2.07 0-2.86zM5.41 20L4 18.59l7.72-7.72 1.47 1.35L5.41 20z\"/>\n",
              "  </svg>\n",
              "      </button>\n",
              "      \n",
              "  <style>\n",
              "    .colab-df-container {\n",
              "      display:flex;\n",
              "      flex-wrap:wrap;\n",
              "      gap: 12px;\n",
              "    }\n",
              "\n",
              "    .colab-df-convert {\n",
              "      background-color: #E8F0FE;\n",
              "      border: none;\n",
              "      border-radius: 50%;\n",
              "      cursor: pointer;\n",
              "      display: none;\n",
              "      fill: #1967D2;\n",
              "      height: 32px;\n",
              "      padding: 0 0 0 0;\n",
              "      width: 32px;\n",
              "    }\n",
              "\n",
              "    .colab-df-convert:hover {\n",
              "      background-color: #E2EBFA;\n",
              "      box-shadow: 0px 1px 2px rgba(60, 64, 67, 0.3), 0px 1px 3px 1px rgba(60, 64, 67, 0.15);\n",
              "      fill: #174EA6;\n",
              "    }\n",
              "\n",
              "    [theme=dark] .colab-df-convert {\n",
              "      background-color: #3B4455;\n",
              "      fill: #D2E3FC;\n",
              "    }\n",
              "\n",
              "    [theme=dark] .colab-df-convert:hover {\n",
              "      background-color: #434B5C;\n",
              "      box-shadow: 0px 1px 3px 1px rgba(0, 0, 0, 0.15);\n",
              "      filter: drop-shadow(0px 1px 2px rgba(0, 0, 0, 0.3));\n",
              "      fill: #FFFFFF;\n",
              "    }\n",
              "  </style>\n",
              "\n",
              "      <script>\n",
              "        const buttonEl =\n",
              "          document.querySelector('#df-8c6ff102-e998-4499-bebd-e22f7210e1ef button.colab-df-convert');\n",
              "        buttonEl.style.display =\n",
              "          google.colab.kernel.accessAllowed ? 'block' : 'none';\n",
              "\n",
              "        async function convertToInteractive(key) {\n",
              "          const element = document.querySelector('#df-8c6ff102-e998-4499-bebd-e22f7210e1ef');\n",
              "          const dataTable =\n",
              "            await google.colab.kernel.invokeFunction('convertToInteractive',\n",
              "                                                     [key], {});\n",
              "          if (!dataTable) return;\n",
              "\n",
              "          const docLinkHtml = 'Like what you see? Visit the ' +\n",
              "            '<a target=\"_blank\" href=https://colab.research.google.com/notebooks/data_table.ipynb>data table notebook</a>'\n",
              "            + ' to learn more about interactive tables.';\n",
              "          element.innerHTML = '';\n",
              "          dataTable['output_type'] = 'display_data';\n",
              "          await google.colab.output.renderOutput(dataTable, element);\n",
              "          const docLink = document.createElement('div');\n",
              "          docLink.innerHTML = docLinkHtml;\n",
              "          element.appendChild(docLink);\n",
              "        }\n",
              "      </script>\n",
              "    </div>\n",
              "  </div>\n",
              "  "
            ]
          },
          "metadata": {},
          "execution_count": 50
        }
      ]
    },
    {
      "cell_type": "code",
      "source": [
        "train['hour_bef_windspeed'].fillna({18:3.281356, 244:1.836667, 260:1.620000, 376:1.965517, 780:3.278333, 934:1.965517, 1035:3.838333, 1138:2.766667, 1229:1.633333}, inplace=True)"
      ],
      "metadata": {
        "id": "Y29aVCiFd9HC"
      },
      "execution_count": 49,
      "outputs": []
    },
    {
      "cell_type": "code",
      "source": [
        "#testset도 살피자\n",
        "test.isna().sum()"
      ],
      "metadata": {
        "colab": {
          "base_uri": "https://localhost:8080/"
        },
        "id": "V4rKPInPgG3w",
        "outputId": "2ff27274-1858-4378-c30e-cebbd8bd9ce7"
      },
      "execution_count": 51,
      "outputs": [
        {
          "output_type": "execute_result",
          "data": {
            "text/plain": [
              "id                         0\n",
              "hour                       0\n",
              "hour_bef_temperature       1\n",
              "hour_bef_precipitation     1\n",
              "hour_bef_windspeed         1\n",
              "hour_bef_humidity          1\n",
              "hour_bef_visibility        1\n",
              "hour_bef_ozone            35\n",
              "hour_bef_pm10             37\n",
              "hour_bef_pm2.5            36\n",
              "dtype: int64"
            ]
          },
          "metadata": {},
          "execution_count": 51
        }
      ]
    },
    {
      "cell_type": "code",
      "source": [
        "test[test['hour_bef_temperature'].isna()]"
      ],
      "metadata": {
        "colab": {
          "base_uri": "https://localhost:8080/",
          "height": 81
        },
        "id": "lGFY0cnLgL4a",
        "outputId": "c0e50531-02fc-4232-85b4-9749b5e8fbe3"
      },
      "execution_count": 52,
      "outputs": [
        {
          "output_type": "execute_result",
          "data": {
            "text/plain": [
              "       id  hour  hour_bef_temperature  hour_bef_precipitation  \\\n",
              "653  1943    19                   NaN                     NaN   \n",
              "\n",
              "     hour_bef_windspeed  hour_bef_humidity  hour_bef_visibility  \\\n",
              "653                 NaN                NaN                  NaN   \n",
              "\n",
              "     hour_bef_ozone  hour_bef_pm10  hour_bef_pm2.5  \n",
              "653             NaN            NaN             NaN  "
            ],
            "text/html": [
              "\n",
              "  <div id=\"df-81eb3a4f-cf7e-4647-ab86-5209b1d9ea90\">\n",
              "    <div class=\"colab-df-container\">\n",
              "      <div>\n",
              "<style scoped>\n",
              "    .dataframe tbody tr th:only-of-type {\n",
              "        vertical-align: middle;\n",
              "    }\n",
              "\n",
              "    .dataframe tbody tr th {\n",
              "        vertical-align: top;\n",
              "    }\n",
              "\n",
              "    .dataframe thead th {\n",
              "        text-align: right;\n",
              "    }\n",
              "</style>\n",
              "<table border=\"1\" class=\"dataframe\">\n",
              "  <thead>\n",
              "    <tr style=\"text-align: right;\">\n",
              "      <th></th>\n",
              "      <th>id</th>\n",
              "      <th>hour</th>\n",
              "      <th>hour_bef_temperature</th>\n",
              "      <th>hour_bef_precipitation</th>\n",
              "      <th>hour_bef_windspeed</th>\n",
              "      <th>hour_bef_humidity</th>\n",
              "      <th>hour_bef_visibility</th>\n",
              "      <th>hour_bef_ozone</th>\n",
              "      <th>hour_bef_pm10</th>\n",
              "      <th>hour_bef_pm2.5</th>\n",
              "    </tr>\n",
              "  </thead>\n",
              "  <tbody>\n",
              "    <tr>\n",
              "      <th>653</th>\n",
              "      <td>1943</td>\n",
              "      <td>19</td>\n",
              "      <td>NaN</td>\n",
              "      <td>NaN</td>\n",
              "      <td>NaN</td>\n",
              "      <td>NaN</td>\n",
              "      <td>NaN</td>\n",
              "      <td>NaN</td>\n",
              "      <td>NaN</td>\n",
              "      <td>NaN</td>\n",
              "    </tr>\n",
              "  </tbody>\n",
              "</table>\n",
              "</div>\n",
              "      <button class=\"colab-df-convert\" onclick=\"convertToInteractive('df-81eb3a4f-cf7e-4647-ab86-5209b1d9ea90')\"\n",
              "              title=\"Convert this dataframe to an interactive table.\"\n",
              "              style=\"display:none;\">\n",
              "        \n",
              "  <svg xmlns=\"http://www.w3.org/2000/svg\" height=\"24px\"viewBox=\"0 0 24 24\"\n",
              "       width=\"24px\">\n",
              "    <path d=\"M0 0h24v24H0V0z\" fill=\"none\"/>\n",
              "    <path d=\"M18.56 5.44l.94 2.06.94-2.06 2.06-.94-2.06-.94-.94-2.06-.94 2.06-2.06.94zm-11 1L8.5 8.5l.94-2.06 2.06-.94-2.06-.94L8.5 2.5l-.94 2.06-2.06.94zm10 10l.94 2.06.94-2.06 2.06-.94-2.06-.94-.94-2.06-.94 2.06-2.06.94z\"/><path d=\"M17.41 7.96l-1.37-1.37c-.4-.4-.92-.59-1.43-.59-.52 0-1.04.2-1.43.59L10.3 9.45l-7.72 7.72c-.78.78-.78 2.05 0 2.83L4 21.41c.39.39.9.59 1.41.59.51 0 1.02-.2 1.41-.59l7.78-7.78 2.81-2.81c.8-.78.8-2.07 0-2.86zM5.41 20L4 18.59l7.72-7.72 1.47 1.35L5.41 20z\"/>\n",
              "  </svg>\n",
              "      </button>\n",
              "      \n",
              "  <style>\n",
              "    .colab-df-container {\n",
              "      display:flex;\n",
              "      flex-wrap:wrap;\n",
              "      gap: 12px;\n",
              "    }\n",
              "\n",
              "    .colab-df-convert {\n",
              "      background-color: #E8F0FE;\n",
              "      border: none;\n",
              "      border-radius: 50%;\n",
              "      cursor: pointer;\n",
              "      display: none;\n",
              "      fill: #1967D2;\n",
              "      height: 32px;\n",
              "      padding: 0 0 0 0;\n",
              "      width: 32px;\n",
              "    }\n",
              "\n",
              "    .colab-df-convert:hover {\n",
              "      background-color: #E2EBFA;\n",
              "      box-shadow: 0px 1px 2px rgba(60, 64, 67, 0.3), 0px 1px 3px 1px rgba(60, 64, 67, 0.15);\n",
              "      fill: #174EA6;\n",
              "    }\n",
              "\n",
              "    [theme=dark] .colab-df-convert {\n",
              "      background-color: #3B4455;\n",
              "      fill: #D2E3FC;\n",
              "    }\n",
              "\n",
              "    [theme=dark] .colab-df-convert:hover {\n",
              "      background-color: #434B5C;\n",
              "      box-shadow: 0px 1px 3px 1px rgba(0, 0, 0, 0.15);\n",
              "      filter: drop-shadow(0px 1px 2px rgba(0, 0, 0, 0.3));\n",
              "      fill: #FFFFFF;\n",
              "    }\n",
              "  </style>\n",
              "\n",
              "      <script>\n",
              "        const buttonEl =\n",
              "          document.querySelector('#df-81eb3a4f-cf7e-4647-ab86-5209b1d9ea90 button.colab-df-convert');\n",
              "        buttonEl.style.display =\n",
              "          google.colab.kernel.accessAllowed ? 'block' : 'none';\n",
              "\n",
              "        async function convertToInteractive(key) {\n",
              "          const element = document.querySelector('#df-81eb3a4f-cf7e-4647-ab86-5209b1d9ea90');\n",
              "          const dataTable =\n",
              "            await google.colab.kernel.invokeFunction('convertToInteractive',\n",
              "                                                     [key], {});\n",
              "          if (!dataTable) return;\n",
              "\n",
              "          const docLinkHtml = 'Like what you see? Visit the ' +\n",
              "            '<a target=\"_blank\" href=https://colab.research.google.com/notebooks/data_table.ipynb>data table notebook</a>'\n",
              "            + ' to learn more about interactive tables.';\n",
              "          element.innerHTML = '';\n",
              "          dataTable['output_type'] = 'display_data';\n",
              "          await google.colab.output.renderOutput(dataTable, element);\n",
              "          const docLink = document.createElement('div');\n",
              "          docLink.innerHTML = docLinkHtml;\n",
              "          element.appendChild(docLink);\n",
              "        }\n",
              "      </script>\n",
              "    </div>\n",
              "  </div>\n",
              "  "
            ]
          },
          "metadata": {},
          "execution_count": 52
        }
      ]
    },
    {
      "cell_type": "code",
      "source": [
        "test['hour_bef_temperature'].fillna(19.704918, inplace=True)"
      ],
      "metadata": {
        "id": "SVon1jLIgZAN"
      },
      "execution_count": 53,
      "outputs": []
    },
    {
      "cell_type": "code",
      "source": [
        "test[test['hour_bef_windspeed'].isna()]"
      ],
      "metadata": {
        "colab": {
          "base_uri": "https://localhost:8080/",
          "height": 81
        },
        "id": "9hH3oLKHghNQ",
        "outputId": "626d6d7a-2cbf-4a3d-8703-d3d7320e2b2c"
      },
      "execution_count": 54,
      "outputs": [
        {
          "output_type": "execute_result",
          "data": {
            "text/plain": [
              "       id  hour  hour_bef_temperature  hour_bef_precipitation  \\\n",
              "653  1943    19             19.704918                     NaN   \n",
              "\n",
              "     hour_bef_windspeed  hour_bef_humidity  hour_bef_visibility  \\\n",
              "653                 NaN                NaN                  NaN   \n",
              "\n",
              "     hour_bef_ozone  hour_bef_pm10  hour_bef_pm2.5  \n",
              "653             NaN            NaN             NaN  "
            ],
            "text/html": [
              "\n",
              "  <div id=\"df-8621422c-e157-4ced-8576-13579df18f57\">\n",
              "    <div class=\"colab-df-container\">\n",
              "      <div>\n",
              "<style scoped>\n",
              "    .dataframe tbody tr th:only-of-type {\n",
              "        vertical-align: middle;\n",
              "    }\n",
              "\n",
              "    .dataframe tbody tr th {\n",
              "        vertical-align: top;\n",
              "    }\n",
              "\n",
              "    .dataframe thead th {\n",
              "        text-align: right;\n",
              "    }\n",
              "</style>\n",
              "<table border=\"1\" class=\"dataframe\">\n",
              "  <thead>\n",
              "    <tr style=\"text-align: right;\">\n",
              "      <th></th>\n",
              "      <th>id</th>\n",
              "      <th>hour</th>\n",
              "      <th>hour_bef_temperature</th>\n",
              "      <th>hour_bef_precipitation</th>\n",
              "      <th>hour_bef_windspeed</th>\n",
              "      <th>hour_bef_humidity</th>\n",
              "      <th>hour_bef_visibility</th>\n",
              "      <th>hour_bef_ozone</th>\n",
              "      <th>hour_bef_pm10</th>\n",
              "      <th>hour_bef_pm2.5</th>\n",
              "    </tr>\n",
              "  </thead>\n",
              "  <tbody>\n",
              "    <tr>\n",
              "      <th>653</th>\n",
              "      <td>1943</td>\n",
              "      <td>19</td>\n",
              "      <td>19.704918</td>\n",
              "      <td>NaN</td>\n",
              "      <td>NaN</td>\n",
              "      <td>NaN</td>\n",
              "      <td>NaN</td>\n",
              "      <td>NaN</td>\n",
              "      <td>NaN</td>\n",
              "      <td>NaN</td>\n",
              "    </tr>\n",
              "  </tbody>\n",
              "</table>\n",
              "</div>\n",
              "      <button class=\"colab-df-convert\" onclick=\"convertToInteractive('df-8621422c-e157-4ced-8576-13579df18f57')\"\n",
              "              title=\"Convert this dataframe to an interactive table.\"\n",
              "              style=\"display:none;\">\n",
              "        \n",
              "  <svg xmlns=\"http://www.w3.org/2000/svg\" height=\"24px\"viewBox=\"0 0 24 24\"\n",
              "       width=\"24px\">\n",
              "    <path d=\"M0 0h24v24H0V0z\" fill=\"none\"/>\n",
              "    <path d=\"M18.56 5.44l.94 2.06.94-2.06 2.06-.94-2.06-.94-.94-2.06-.94 2.06-2.06.94zm-11 1L8.5 8.5l.94-2.06 2.06-.94-2.06-.94L8.5 2.5l-.94 2.06-2.06.94zm10 10l.94 2.06.94-2.06 2.06-.94-2.06-.94-.94-2.06-.94 2.06-2.06.94z\"/><path d=\"M17.41 7.96l-1.37-1.37c-.4-.4-.92-.59-1.43-.59-.52 0-1.04.2-1.43.59L10.3 9.45l-7.72 7.72c-.78.78-.78 2.05 0 2.83L4 21.41c.39.39.9.59 1.41.59.51 0 1.02-.2 1.41-.59l7.78-7.78 2.81-2.81c.8-.78.8-2.07 0-2.86zM5.41 20L4 18.59l7.72-7.72 1.47 1.35L5.41 20z\"/>\n",
              "  </svg>\n",
              "      </button>\n",
              "      \n",
              "  <style>\n",
              "    .colab-df-container {\n",
              "      display:flex;\n",
              "      flex-wrap:wrap;\n",
              "      gap: 12px;\n",
              "    }\n",
              "\n",
              "    .colab-df-convert {\n",
              "      background-color: #E8F0FE;\n",
              "      border: none;\n",
              "      border-radius: 50%;\n",
              "      cursor: pointer;\n",
              "      display: none;\n",
              "      fill: #1967D2;\n",
              "      height: 32px;\n",
              "      padding: 0 0 0 0;\n",
              "      width: 32px;\n",
              "    }\n",
              "\n",
              "    .colab-df-convert:hover {\n",
              "      background-color: #E2EBFA;\n",
              "      box-shadow: 0px 1px 2px rgba(60, 64, 67, 0.3), 0px 1px 3px 1px rgba(60, 64, 67, 0.15);\n",
              "      fill: #174EA6;\n",
              "    }\n",
              "\n",
              "    [theme=dark] .colab-df-convert {\n",
              "      background-color: #3B4455;\n",
              "      fill: #D2E3FC;\n",
              "    }\n",
              "\n",
              "    [theme=dark] .colab-df-convert:hover {\n",
              "      background-color: #434B5C;\n",
              "      box-shadow: 0px 1px 3px 1px rgba(0, 0, 0, 0.15);\n",
              "      filter: drop-shadow(0px 1px 2px rgba(0, 0, 0, 0.3));\n",
              "      fill: #FFFFFF;\n",
              "    }\n",
              "  </style>\n",
              "\n",
              "      <script>\n",
              "        const buttonEl =\n",
              "          document.querySelector('#df-8621422c-e157-4ced-8576-13579df18f57 button.colab-df-convert');\n",
              "        buttonEl.style.display =\n",
              "          google.colab.kernel.accessAllowed ? 'block' : 'none';\n",
              "\n",
              "        async function convertToInteractive(key) {\n",
              "          const element = document.querySelector('#df-8621422c-e157-4ced-8576-13579df18f57');\n",
              "          const dataTable =\n",
              "            await google.colab.kernel.invokeFunction('convertToInteractive',\n",
              "                                                     [key], {});\n",
              "          if (!dataTable) return;\n",
              "\n",
              "          const docLinkHtml = 'Like what you see? Visit the ' +\n",
              "            '<a target=\"_blank\" href=https://colab.research.google.com/notebooks/data_table.ipynb>data table notebook</a>'\n",
              "            + ' to learn more about interactive tables.';\n",
              "          element.innerHTML = '';\n",
              "          dataTable['output_type'] = 'display_data';\n",
              "          await google.colab.output.renderOutput(dataTable, element);\n",
              "          const docLink = document.createElement('div');\n",
              "          docLink.innerHTML = docLinkHtml;\n",
              "          element.appendChild(docLink);\n",
              "        }\n",
              "      </script>\n",
              "    </div>\n",
              "  </div>\n",
              "  "
            ]
          },
          "metadata": {},
          "execution_count": 54
        }
      ]
    },
    {
      "cell_type": "code",
      "source": [
        "test['hour_bef_windspeed'].fillna(3.595082, inplace=True)"
      ],
      "metadata": {
        "id": "9Xn6Xqy6gm0N"
      },
      "execution_count": 55,
      "outputs": []
    },
    {
      "cell_type": "markdown",
      "metadata": {
        "id": "Qyq90ZzB2lnk"
      },
      "source": [
        "## 4. 변수 선택 및 모델 구축\n",
        "## Feature Engineering & Initial Modeling  "
      ]
    },
    {
      "cell_type": "markdown",
      "metadata": {
        "id": "Ws9uwm2FOyai"
      },
      "source": [
        "### sklearn.ensemble.RandomForestRegressor()\n",
        "- 랜덤 포레스트 모형"
      ]
    },
    {
      "cell_type": "code",
      "metadata": {
        "id": "xdIs3HD7Ojlh"
      },
      "source": [
        "#정의역 설정\n",
        "features = ['hour', 'hour_bef_temperature', 'hour_bef_windspeed']\n",
        "\n",
        "#모델 대입값 한정\n",
        "X_train = train[features]\n",
        "y_train = train['count']\n",
        "X_test = test[features]"
      ],
      "execution_count": 61,
      "outputs": []
    },
    {
      "cell_type": "code",
      "source": [
        "print(X_train.shape)\n",
        "print(y_train.shape)\n",
        "print(X_test.shape)"
      ],
      "metadata": {
        "colab": {
          "base_uri": "https://localhost:8080/"
        },
        "id": "zf7zTqJdhVcj",
        "outputId": "f4738a10-e426-459b-ec08-ab36d6049242"
      },
      "execution_count": 62,
      "outputs": [
        {
          "output_type": "stream",
          "name": "stdout",
          "text": [
            "(1459, 3)\n",
            "(1459,)\n",
            "(715, 3)\n"
          ]
        }
      ]
    },
    {
      "cell_type": "code",
      "source": [
        "#여러 모델을 돌려보며 튜닝\n",
        "model100 = RandomForestRegressor(n_estimators=100, random_state=0)   #많은 decisionTree를 이용하는 모델\n",
        "model100_5 = RandomForestRegressor(n_estimators=100, max_depth=5, random_state=0)\n",
        "model200 = RandomForestRegressor(n_estimators=200)"
      ],
      "metadata": {
        "id": "5MWXYzJwhva7"
      },
      "execution_count": 66,
      "outputs": []
    },
    {
      "cell_type": "markdown",
      "source": [
        "def __init__(*, criterion='squared_error', splitter='best', max_depth=None, min_samples_split=2, min_samples_leaf=1, min_weight_fraction_leaf=0.0, max_features=None, random_state=None, max_leaf_nodes=None, min_impurity_decrease=0.0, ccp_alpha=0.0)\n",
        "\n",
        "---\n",
        "def __init__(n_estimators=100, *, criterion='squared_error', max_depth=None, min_samples_split=2, min_samples_leaf=1, min_weight_fraction_leaf=0.0, max_features=1.0, max_leaf_nodes=None, min_impurity_decrease=0.0, bootstrap=True, oob_score=False, n_jobs=None, random_state=None, verbose=0, warm_start=False, ccp_alpha=0.0, max_samples=None)"
      ],
      "metadata": {
        "id": "mLkbM0ETidKr"
      }
    },
    {
      "cell_type": "markdown",
      "source": [
        "아래가 랜덤포레스트 리그레서의 인자\\\n",
        "n_estimators가 디시젼트리 리그레서의 수이다.\\\n",
        "n_jobs는 cpu의 개수를 의미한다. 모든 cpu를 활용하려면 -1을 대입하면 된다.\\\n",
        "max_depth는 모델의 오버피팅을 방지하는 인자이다.\n"
      ],
      "metadata": {
        "id": "uh3ppm_1ir2Q"
      }
    },
    {
      "cell_type": "code",
      "source": [
        "#모델 학습\n",
        "model100.fit(X_train, y_train)\n",
        "model100_5.fit(X_train, y_train)\n",
        "model200.fit(X_train, y_train)"
      ],
      "metadata": {
        "colab": {
          "base_uri": "https://localhost:8080/",
          "height": 75
        },
        "id": "jasg9LoLiR9T",
        "outputId": "55565f3c-de9d-4a20-db3b-2c4e2f54ecd2"
      },
      "execution_count": 67,
      "outputs": [
        {
          "output_type": "execute_result",
          "data": {
            "text/plain": [
              "RandomForestRegressor(n_estimators=200)"
            ],
            "text/html": [
              "<style>#sk-container-id-2 {color: black;background-color: white;}#sk-container-id-2 pre{padding: 0;}#sk-container-id-2 div.sk-toggleable {background-color: white;}#sk-container-id-2 label.sk-toggleable__label {cursor: pointer;display: block;width: 100%;margin-bottom: 0;padding: 0.3em;box-sizing: border-box;text-align: center;}#sk-container-id-2 label.sk-toggleable__label-arrow:before {content: \"▸\";float: left;margin-right: 0.25em;color: #696969;}#sk-container-id-2 label.sk-toggleable__label-arrow:hover:before {color: black;}#sk-container-id-2 div.sk-estimator:hover label.sk-toggleable__label-arrow:before {color: black;}#sk-container-id-2 div.sk-toggleable__content {max-height: 0;max-width: 0;overflow: hidden;text-align: left;background-color: #f0f8ff;}#sk-container-id-2 div.sk-toggleable__content pre {margin: 0.2em;color: black;border-radius: 0.25em;background-color: #f0f8ff;}#sk-container-id-2 input.sk-toggleable__control:checked~div.sk-toggleable__content {max-height: 200px;max-width: 100%;overflow: auto;}#sk-container-id-2 input.sk-toggleable__control:checked~label.sk-toggleable__label-arrow:before {content: \"▾\";}#sk-container-id-2 div.sk-estimator input.sk-toggleable__control:checked~label.sk-toggleable__label {background-color: #d4ebff;}#sk-container-id-2 div.sk-label input.sk-toggleable__control:checked~label.sk-toggleable__label {background-color: #d4ebff;}#sk-container-id-2 input.sk-hidden--visually {border: 0;clip: rect(1px 1px 1px 1px);clip: rect(1px, 1px, 1px, 1px);height: 1px;margin: -1px;overflow: hidden;padding: 0;position: absolute;width: 1px;}#sk-container-id-2 div.sk-estimator {font-family: monospace;background-color: #f0f8ff;border: 1px dotted black;border-radius: 0.25em;box-sizing: border-box;margin-bottom: 0.5em;}#sk-container-id-2 div.sk-estimator:hover {background-color: #d4ebff;}#sk-container-id-2 div.sk-parallel-item::after {content: \"\";width: 100%;border-bottom: 1px solid gray;flex-grow: 1;}#sk-container-id-2 div.sk-label:hover label.sk-toggleable__label {background-color: #d4ebff;}#sk-container-id-2 div.sk-serial::before {content: \"\";position: absolute;border-left: 1px solid gray;box-sizing: border-box;top: 0;bottom: 0;left: 50%;z-index: 0;}#sk-container-id-2 div.sk-serial {display: flex;flex-direction: column;align-items: center;background-color: white;padding-right: 0.2em;padding-left: 0.2em;position: relative;}#sk-container-id-2 div.sk-item {position: relative;z-index: 1;}#sk-container-id-2 div.sk-parallel {display: flex;align-items: stretch;justify-content: center;background-color: white;position: relative;}#sk-container-id-2 div.sk-item::before, #sk-container-id-2 div.sk-parallel-item::before {content: \"\";position: absolute;border-left: 1px solid gray;box-sizing: border-box;top: 0;bottom: 0;left: 50%;z-index: -1;}#sk-container-id-2 div.sk-parallel-item {display: flex;flex-direction: column;z-index: 1;position: relative;background-color: white;}#sk-container-id-2 div.sk-parallel-item:first-child::after {align-self: flex-end;width: 50%;}#sk-container-id-2 div.sk-parallel-item:last-child::after {align-self: flex-start;width: 50%;}#sk-container-id-2 div.sk-parallel-item:only-child::after {width: 0;}#sk-container-id-2 div.sk-dashed-wrapped {border: 1px dashed gray;margin: 0 0.4em 0.5em 0.4em;box-sizing: border-box;padding-bottom: 0.4em;background-color: white;}#sk-container-id-2 div.sk-label label {font-family: monospace;font-weight: bold;display: inline-block;line-height: 1.2em;}#sk-container-id-2 div.sk-label-container {text-align: center;}#sk-container-id-2 div.sk-container {/* jupyter's `normalize.less` sets `[hidden] { display: none; }` but bootstrap.min.css set `[hidden] { display: none !important; }` so we also need the `!important` here to be able to override the default hidden behavior on the sphinx rendered scikit-learn.org. See: https://github.com/scikit-learn/scikit-learn/issues/21755 */display: inline-block !important;position: relative;}#sk-container-id-2 div.sk-text-repr-fallback {display: none;}</style><div id=\"sk-container-id-2\" class=\"sk-top-container\"><div class=\"sk-text-repr-fallback\"><pre>RandomForestRegressor(n_estimators=200)</pre><b>In a Jupyter environment, please rerun this cell to show the HTML representation or trust the notebook. <br />On GitHub, the HTML representation is unable to render, please try loading this page with nbviewer.org.</b></div><div class=\"sk-container\" hidden><div class=\"sk-item\"><div class=\"sk-estimator sk-toggleable\"><input class=\"sk-toggleable__control sk-hidden--visually\" id=\"sk-estimator-id-2\" type=\"checkbox\" checked><label for=\"sk-estimator-id-2\" class=\"sk-toggleable__label sk-toggleable__label-arrow\">RandomForestRegressor</label><div class=\"sk-toggleable__content\"><pre>RandomForestRegressor(n_estimators=200)</pre></div></div></div></div></div>"
            ]
          },
          "metadata": {},
          "execution_count": 67
        }
      ]
    },
    {
      "cell_type": "code",
      "source": [
        "#예측\n",
        "ypred1 = model100.predict(X_test)\n",
        "ypred2 = model100_5.predict(X_test)\n",
        "ypred3 = model200.predict(X_test)"
      ],
      "metadata": {
        "id": "oFFPcIUxk3Jm"
      },
      "execution_count": 68,
      "outputs": []
    },
    {
      "cell_type": "code",
      "source": [
        "submission['count'] = ypred1\n",
        "submission.to_csv('model100.csv', index=False)"
      ],
      "metadata": {
        "id": "bg8x6DUgirkw"
      },
      "execution_count": 76,
      "outputs": []
    },
    {
      "cell_type": "code",
      "source": [
        "submission['count'] = ypred2\n",
        "submission.to_csv('model100_5.csv', index=False)"
      ],
      "metadata": {
        "id": "8hCAA90klXWA"
      },
      "execution_count": 77,
      "outputs": []
    },
    {
      "cell_type": "code",
      "source": [
        "submission['count'] = ypred3\n",
        "submission.to_csv('model200.csv', index=False)"
      ],
      "metadata": {
        "id": "rCKT4dillX8T"
      },
      "execution_count": 78,
      "outputs": []
    },
    {
      "cell_type": "markdown",
      "metadata": {
        "id": "V21KUtyl2lnu"
      },
      "source": [
        "## 5. 모델 학습 및 검증\n",
        "## Model Tuning & Evaluation"
      ]
    },
    {
      "cell_type": "markdown",
      "metadata": {
        "id": "dNb8A0rl9fgq"
      },
      "source": [
        "### model.fit()\n",
        "- 모델 학습"
      ]
    },
    {
      "cell_type": "code",
      "metadata": {
        "id": "H4Nu1D-lR0xf"
      },
      "source": [],
      "execution_count": null,
      "outputs": []
    },
    {
      "cell_type": "markdown",
      "metadata": {
        "id": "yoFipFlWOue3"
      },
      "source": [
        "### model.predict()\n",
        "- 모델 예측"
      ]
    },
    {
      "cell_type": "code",
      "metadata": {
        "id": "YxqMbvOCOsn1"
      },
      "source": [],
      "execution_count": null,
      "outputs": []
    },
    {
      "cell_type": "markdown",
      "metadata": {
        "id": "qm0jUMv4OkZM"
      },
      "source": [
        "### pd.DataFrame.to_csv()\n",
        " - csv파일 저장하는 함수"
      ]
    },
    {
      "cell_type": "code",
      "metadata": {
        "id": "oNU-ahud2lnv"
      },
      "source": [],
      "execution_count": null,
      "outputs": []
    },
    {
      "cell_type": "markdown",
      "metadata": {
        "id": "3BNtFKiZ2ln6"
      },
      "source": [
        "## 6. 결과 및 결언\n",
        "## Conclusion & Discussion"
      ]
    }
  ]
}